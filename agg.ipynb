{
 "cells": [
  {
   "cell_type": "code",
   "execution_count": 1,
   "metadata": {},
   "outputs": [
    {
     "name": "stdout",
     "output_type": "stream",
     "text": [
      "{(2, 0.2)}\n"
     ]
    }
   ],
   "source": [
    "from utils import *\n",
    "from numpy import linalg as LA\n",
    "\n",
    "def plot_dendrogram(model, **kwargs):\n",
    "    # Create linkage matrix and then plot the dendrogram\n",
    "\n",
    "    # create the counts of samples under each node\n",
    "    counts = np.zeros(model.children_.shape[0])\n",
    "    n_samples = len(model.labels_)\n",
    "    for i, merge in enumerate(model.children_):\n",
    "        current_count = 0\n",
    "        for child_idx in merge:\n",
    "            if child_idx < n_samples:\n",
    "                current_count += 1  # leaf node\n",
    "            else:\n",
    "                current_count += counts[child_idx - n_samples]\n",
    "        counts[i] = current_count\n",
    "\n",
    "    linkage_matrix = np.column_stack(\n",
    "        [model.children_, model.distances_, counts]\n",
    "    ).astype(float)\n",
    "\n",
    "    # Plot the corresponding dendrogram\n",
    "    dendrogram(linkage_matrix, **kwargs)\n",
    "\n",
    "\n",
    "success = glob.glob(\"Data/Dict-Matrix-*[0-9]-RAF.txt\")\n",
    "\n",
    "nf_pairs = []\n",
    "\n",
    "success_dict = {}\n",
    "\n",
    "for file in success:\n",
    "    Cs = []\n",
    "    n = int(file.split(\"-\")[2])\n",
    "    f = float(file.split(\"-\")[3])\n",
    "\n",
    "    file1 = open(file, 'r')\n",
    "    Lines = file1.readlines()\n",
    "    \n",
    "\n",
    "    if (n,f) not in success_dict:\n",
    "        success_dict[(n,f)] = [ast.literal_eval(line) for line in Lines] \n",
    "    else:\n",
    "        success_dict[(n,f)].append([ast.literal_eval(line) for line in Lines])\n",
    "    \n",
    "\n",
    "\n",
    "\n",
    "failure = glob.glob(\"Data/Dict-Matrix-*-Non-RAF.txt\")\n",
    "failure_dict= {}\n",
    "\n",
    "for file in failure:\n",
    "    Cs = []\n",
    "    n = int(file.split(\"-\")[2])\n",
    "    f = float(file.split(\"-\")[3])\n",
    "\n",
    "    file1 = open(file, 'r')\n",
    "    Lines = file1.readlines()\n",
    "    \n",
    "\n",
    "    if (n,f) not in failure_dict:\n",
    "        failure_dict[(n,f)] = [ast.literal_eval(line) for line in Lines] \n",
    "    else:\n",
    "        failure_dict[(n,f)].append([ast.literal_eval(line) for line in Lines])\n",
    "\n",
    "\n",
    "keys1 = set(success_dict.keys())\n",
    "keys2 = set(failure_dict.keys())\n",
    "\n",
    "#Find the intersection of keys (common keys)\n",
    "common_keys = keys1.intersection(keys2)\n",
    "print(common_keys)                                   \n",
    "\n",
    "#key = set([i for i in common_keys if i[0] == n]).pop()\n",
    "\n",
    "\n"
   ]
  },
  {
   "cell_type": "code",
   "execution_count": 31,
   "metadata": {},
   "outputs": [
    {
     "name": "stdout",
     "output_type": "stream",
     "text": [
      "964\n",
      "[[ 0. 10. 10. ...  8.  8.  8.]\n",
      " [ 0.  0.  8. ...  6.  6.  6.]\n",
      " [ 0.  0.  0. ...  6.  6.  6.]\n",
      " ...\n",
      " [ 0.  0.  0. ...  0.  4.  4.]\n",
      " [ 0.  0.  0. ...  0.  0.  4.]\n",
      " [ 0.  0.  0. ...  0.  0.  0.]]\n"
     ]
    }
   ],
   "source": [
    "for key in common_keys:\n",
    "    success = success_dict[key]\n",
    "    failure = failure_dict[key]\n",
    "    n = key[0]\n",
    "    f = key[1]\n",
    "\n",
    "    X,F,R = create_XFR(n)\n",
    "\n",
    "    raf_count = len(success)\n",
    "\n",
    "    matricies = [get_M(X,R, C) for C in success] #+[get_M(X,R, C) for C in failure]\n",
    "    s = len(matricies)\n",
    "\n",
    "    print(s)\n",
    "\n",
    "    dist = np.zeros((s, s))\n",
    "\n",
    "    for i in range(s):\n",
    "        for j in range(i+1, s):\n",
    "            dist[i,j] = LA.norm(matricies[i] - matricies[j], \"fro\")**2\n",
    "    \n",
    "    \n",
    "    print(dist)"
   ]
  },
  {
   "cell_type": "code",
   "execution_count": 32,
   "metadata": {},
   "outputs": [
    {
     "data": {
      "text/plain": [
       "22.0"
      ]
     },
     "execution_count": 32,
     "metadata": {},
     "output_type": "execute_result"
    }
   ],
   "source": [
    "np.max(dist)"
   ]
  },
  {
   "cell_type": "code",
   "execution_count": 33,
   "metadata": {},
   "outputs": [],
   "source": [
    "k = 0\n",
    "dist_dict ={}\n",
    "\n",
    "while k < np.max(dist) +1:\n",
    "#while k < 5:\n",
    "    #clust = np.argwhere((dist < k) & (dist > 0))\n",
    "    dist_dict[k] = np.argwhere((dist < k) & (dist > 0))\n",
    "    k+=1\n",
    "    "
   ]
  },
  {
   "cell_type": "code",
   "execution_count": 30,
   "metadata": {},
   "outputs": [
    {
     "data": {
      "text/plain": [
       "964"
      ]
     },
     "execution_count": 30,
     "metadata": {},
     "output_type": "execute_result"
    }
   ],
   "source": [
    "s"
   ]
  },
  {
   "cell_type": "code",
   "execution_count": 10,
   "metadata": {},
   "outputs": [
    {
     "data": {
      "text/plain": [
       "3713923"
      ]
     },
     "execution_count": 10,
     "metadata": {},
     "output_type": "execute_result"
    }
   ],
   "source": [
    "len(dist_dict[3])"
   ]
  },
  {
   "cell_type": "code",
   "execution_count": 21,
   "metadata": {},
   "outputs": [
    {
     "data": {
      "text/plain": [
       "[0, 1, 2, 3, 4, 5]"
      ]
     },
     "execution_count": 21,
     "metadata": {},
     "output_type": "execute_result"
    }
   ],
   "source": [
    "list(dist_dict.keys())"
   ]
  },
  {
   "cell_type": "code",
   "execution_count": 23,
   "metadata": {},
   "outputs": [
    {
     "data": {
      "text/plain": [
       "[0, 0, 1240264, 3713923, 3891576, 3894261]"
      ]
     },
     "execution_count": 23,
     "metadata": {},
     "output_type": "execute_result"
    }
   ],
   "source": [
    "[len(dist_dict[i]) for i in list(dist_dict.keys())]"
   ]
  },
  {
   "cell_type": "code",
   "execution_count": 34,
   "metadata": {},
   "outputs": [
    {
     "data": {
      "text/plain": [
       "Text(0, 0.5, 'Count')"
      ]
     },
     "execution_count": 34,
     "metadata": {},
     "output_type": "execute_result"
    },
    {
     "data": {
      "image/png": "[encoded data removed]",
      "text/plain": [
       "<Figure size 640x480 with 1 Axes>"
      ]
     },
     "metadata": {},
     "output_type": "display_data"
    }
   ],
   "source": [
    "plt.title\n",
    "plt.plot(list(dist_dict.keys()), [len(dist_dict[i]) for i in list(dist_dict.keys())])\n",
    "plt.xlabel(\"Distance\")\n",
    "plt.ylabel(\"Count\")\n"
   ]
  },
  {
   "cell_type": "code",
   "execution_count": null,
   "metadata": {},
   "outputs": [],
   "source": []
  },
  {
   "cell_type": "code",
   "execution_count": 53,
   "metadata": {},
   "outputs": [],
   "source": [
    "n = np.linspace(0,3,3)\n",
    "f = np.linspace(0,3,10)\n",
    "p = np.random.rand(10,3)"
   ]
  },
  {
   "cell_type": "code",
   "execution_count": 45,
   "metadata": {},
   "outputs": [
    {
     "data": {
      "text/plain": [
       "array([0.31070059, 0.48830187, 0.19277645, 0.4343254 , 0.88280243,\n",
       "       0.75441064, 0.55308498, 0.63376942, 0.00942016, 0.68620803,\n",
       "       0.61000069, 0.16931273, 0.2140555 , 0.17055952, 0.13982883,\n",
       "       0.02451363, 0.87368154, 0.02158163, 0.65043221, 0.17695748,\n",
       "       0.15996613, 0.19435084, 0.98166327, 0.48569459, 0.17209184,\n",
       "       0.44343433, 0.20214111, 0.01913888, 0.34457407, 0.3289819 ])"
      ]
     },
     "execution_count": 45,
     "metadata": {},
     "output_type": "execute_result"
    }
   ],
   "source": [
    "p"
   ]
  },
  {
   "cell_type": "code",
   "execution_count": 54,
   "metadata": {},
   "outputs": [
    {
     "data": {
      "image/png": "[encoded data removed]",
      "text/plain": [
       "<Figure size 640x480 with 1 Axes>"
      ]
     },
     "metadata": {},
     "output_type": "display_data"
    }
   ],
   "source": [
    "\n",
    "plt.contourf(n,f, p)\n",
    "plt.show()"
   ]
  },
  {
   "cell_type": "code",
   "execution_count": null,
   "metadata": {},
   "outputs": [],
   "source": []
  }
 ],
 "metadata": {
  "kernelspec": {
   "display_name": "venv-3.8-pAhcsra2",
   "language": "python",
   "name": "python3"
  },
  "language_info": {
   "codemirror_mode": {
    "name": "ipython",
    "version": 3
   },
   "file_extension": ".py",
   "mimetype": "text/x-python",
   "name": "python",
   "nbconvert_exporter": "python",
   "pygments_lexer": "ipython3",
   "version": "3.8.8"
  },
  "orig_nbformat": 4
 },
 "nbformat": 4,
 "nbformat_minor": 2
}
